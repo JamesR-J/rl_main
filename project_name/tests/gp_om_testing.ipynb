{
 "cells": [
  {
   "cell_type": "code",
   "execution_count": 11,
   "outputs": [
    {
     "name": "stdout",
     "output_type": "stream",
     "text": [
      "Requirement already satisfied: pettingzoo in /home/jamesrj_desktop/PycharmProjects/prob_inf_marl/.venv/lib/python3.10/site-packages (1.24.3)\r\n",
      "Requirement already satisfied: numpy>=1.21.0 in /home/jamesrj_desktop/PycharmProjects/prob_inf_marl/.venv/lib/python3.10/site-packages (from pettingzoo) (1.26.4)\r\n",
      "Requirement already satisfied: gymnasium>=0.28.0 in /home/jamesrj_desktop/PycharmProjects/prob_inf_marl/.venv/lib/python3.10/site-packages (from pettingzoo) (0.28.1)\r\n",
      "Requirement already satisfied: jax-jumpy>=1.0.0 in /home/jamesrj_desktop/PycharmProjects/prob_inf_marl/.venv/lib/python3.10/site-packages (from gymnasium>=0.28.0->pettingzoo) (1.0.0)\r\n",
      "Requirement already satisfied: cloudpickle>=1.2.0 in /home/jamesrj_desktop/PycharmProjects/prob_inf_marl/.venv/lib/python3.10/site-packages (from gymnasium>=0.28.0->pettingzoo) (3.0.0)\r\n",
      "Requirement already satisfied: typing-extensions>=4.3.0 in /home/jamesrj_desktop/PycharmProjects/prob_inf_marl/.venv/lib/python3.10/site-packages (from gymnasium>=0.28.0->pettingzoo) (4.12.2)\r\n",
      "Requirement already satisfied: farama-notifications>=0.0.1 in /home/jamesrj_desktop/PycharmProjects/prob_inf_marl/.venv/lib/python3.10/site-packages (from gymnasium>=0.28.0->pettingzoo) (0.0.4)\r\n",
      "Collecting gpytorch\r\n",
      "  Downloading gpytorch-1.13-py3-none-any.whl.metadata (8.0 kB)\r\n",
      "Collecting jaxtyping==0.2.19 (from gpytorch)\r\n",
      "  Downloading jaxtyping-0.2.19-py3-none-any.whl.metadata (5.7 kB)\r\n",
      "Requirement already satisfied: mpmath<=1.3,>=0.19 in /home/jamesrj_desktop/PycharmProjects/prob_inf_marl/.venv/lib/python3.10/site-packages (from gpytorch) (1.3.0)\r\n",
      "Collecting scikit-learn (from gpytorch)\r\n",
      "  Downloading scikit_learn-1.5.2-cp310-cp310-manylinux_2_17_x86_64.manylinux2014_x86_64.whl.metadata (13 kB)\r\n",
      "Requirement already satisfied: scipy>=1.6.0 in /home/jamesrj_desktop/PycharmProjects/prob_inf_marl/.venv/lib/python3.10/site-packages (from gpytorch) (1.12.0)\r\n",
      "Collecting linear-operator>=0.5.3 (from gpytorch)\r\n",
      "  Downloading linear_operator-0.5.3-py3-none-any.whl.metadata (15 kB)\r\n",
      "Requirement already satisfied: numpy>=1.20.0 in /home/jamesrj_desktop/PycharmProjects/prob_inf_marl/.venv/lib/python3.10/site-packages (from jaxtyping==0.2.19->gpytorch) (1.26.4)\r\n",
      "Collecting typeguard>=2.13.3 (from jaxtyping==0.2.19->gpytorch)\r\n",
      "  Downloading typeguard-4.3.0-py3-none-any.whl.metadata (3.7 kB)\r\n",
      "Requirement already satisfied: typing-extensions>=3.7.4.1 in /home/jamesrj_desktop/PycharmProjects/prob_inf_marl/.venv/lib/python3.10/site-packages (from jaxtyping==0.2.19->gpytorch) (4.12.2)\r\n",
      "Requirement already satisfied: torch>=1.11 in /home/jamesrj_desktop/PycharmProjects/prob_inf_marl/.venv/lib/python3.10/site-packages (from linear-operator>=0.5.3->gpytorch) (2.0.1)\r\n",
      "Collecting joblib>=1.2.0 (from scikit-learn->gpytorch)\r\n",
      "  Downloading joblib-1.4.2-py3-none-any.whl.metadata (5.4 kB)\r\n",
      "Collecting threadpoolctl>=3.1.0 (from scikit-learn->gpytorch)\r\n",
      "  Downloading threadpoolctl-3.5.0-py3-none-any.whl.metadata (13 kB)\r\n",
      "Requirement already satisfied: filelock in /home/jamesrj_desktop/PycharmProjects/prob_inf_marl/.venv/lib/python3.10/site-packages (from torch>=1.11->linear-operator>=0.5.3->gpytorch) (3.15.4)\r\n",
      "Requirement already satisfied: sympy in /home/jamesrj_desktop/PycharmProjects/prob_inf_marl/.venv/lib/python3.10/site-packages (from torch>=1.11->linear-operator>=0.5.3->gpytorch) (1.13.1)\r\n",
      "Requirement already satisfied: networkx in /home/jamesrj_desktop/PycharmProjects/prob_inf_marl/.venv/lib/python3.10/site-packages (from torch>=1.11->linear-operator>=0.5.3->gpytorch) (3.3)\r\n",
      "Requirement already satisfied: jinja2 in /home/jamesrj_desktop/PycharmProjects/prob_inf_marl/.venv/lib/python3.10/site-packages (from torch>=1.11->linear-operator>=0.5.3->gpytorch) (3.1.4)\r\n",
      "Requirement already satisfied: nvidia-cuda-nvrtc-cu11==11.7.99 in /home/jamesrj_desktop/PycharmProjects/prob_inf_marl/.venv/lib/python3.10/site-packages (from torch>=1.11->linear-operator>=0.5.3->gpytorch) (11.7.99)\r\n",
      "Requirement already satisfied: nvidia-cuda-runtime-cu11==11.7.99 in /home/jamesrj_desktop/PycharmProjects/prob_inf_marl/.venv/lib/python3.10/site-packages (from torch>=1.11->linear-operator>=0.5.3->gpytorch) (11.7.99)\r\n",
      "Requirement already satisfied: nvidia-cuda-cupti-cu11==11.7.101 in /home/jamesrj_desktop/PycharmProjects/prob_inf_marl/.venv/lib/python3.10/site-packages (from torch>=1.11->linear-operator>=0.5.3->gpytorch) (11.7.101)\r\n",
      "Requirement already satisfied: nvidia-cudnn-cu11==8.5.0.96 in /home/jamesrj_desktop/PycharmProjects/prob_inf_marl/.venv/lib/python3.10/site-packages (from torch>=1.11->linear-operator>=0.5.3->gpytorch) (8.5.0.96)\r\n",
      "Requirement already satisfied: nvidia-cublas-cu11==11.10.3.66 in /home/jamesrj_desktop/PycharmProjects/prob_inf_marl/.venv/lib/python3.10/site-packages (from torch>=1.11->linear-operator>=0.5.3->gpytorch) (11.10.3.66)\r\n",
      "Requirement already satisfied: nvidia-cufft-cu11==10.9.0.58 in /home/jamesrj_desktop/PycharmProjects/prob_inf_marl/.venv/lib/python3.10/site-packages (from torch>=1.11->linear-operator>=0.5.3->gpytorch) (10.9.0.58)\r\n",
      "Requirement already satisfied: nvidia-curand-cu11==10.2.10.91 in /home/jamesrj_desktop/PycharmProjects/prob_inf_marl/.venv/lib/python3.10/site-packages (from torch>=1.11->linear-operator>=0.5.3->gpytorch) (10.2.10.91)\r\n",
      "Requirement already satisfied: nvidia-cusolver-cu11==11.4.0.1 in /home/jamesrj_desktop/PycharmProjects/prob_inf_marl/.venv/lib/python3.10/site-packages (from torch>=1.11->linear-operator>=0.5.3->gpytorch) (11.4.0.1)\r\n",
      "Requirement already satisfied: nvidia-cusparse-cu11==11.7.4.91 in /home/jamesrj_desktop/PycharmProjects/prob_inf_marl/.venv/lib/python3.10/site-packages (from torch>=1.11->linear-operator>=0.5.3->gpytorch) (11.7.4.91)\r\n",
      "Requirement already satisfied: nvidia-nccl-cu11==2.14.3 in /home/jamesrj_desktop/PycharmProjects/prob_inf_marl/.venv/lib/python3.10/site-packages (from torch>=1.11->linear-operator>=0.5.3->gpytorch) (2.14.3)\r\n",
      "Requirement already satisfied: nvidia-nvtx-cu11==11.7.91 in /home/jamesrj_desktop/PycharmProjects/prob_inf_marl/.venv/lib/python3.10/site-packages (from torch>=1.11->linear-operator>=0.5.3->gpytorch) (11.7.91)\r\n",
      "Requirement already satisfied: triton==2.0.0 in /home/jamesrj_desktop/PycharmProjects/prob_inf_marl/.venv/lib/python3.10/site-packages (from torch>=1.11->linear-operator>=0.5.3->gpytorch) (2.0.0)\r\n",
      "Requirement already satisfied: setuptools in /home/jamesrj_desktop/PycharmProjects/prob_inf_marl/.venv/lib/python3.10/site-packages (from nvidia-cublas-cu11==11.10.3.66->torch>=1.11->linear-operator>=0.5.3->gpytorch) (72.1.0)\r\n",
      "Requirement already satisfied: wheel in /home/jamesrj_desktop/PycharmProjects/prob_inf_marl/.venv/lib/python3.10/site-packages (from nvidia-cublas-cu11==11.10.3.66->torch>=1.11->linear-operator>=0.5.3->gpytorch) (0.44.0)\r\n",
      "Requirement already satisfied: cmake in /home/jamesrj_desktop/PycharmProjects/prob_inf_marl/.venv/lib/python3.10/site-packages (from triton==2.0.0->torch>=1.11->linear-operator>=0.5.3->gpytorch) (3.30.2)\r\n",
      "Requirement already satisfied: lit in /home/jamesrj_desktop/PycharmProjects/prob_inf_marl/.venv/lib/python3.10/site-packages (from triton==2.0.0->torch>=1.11->linear-operator>=0.5.3->gpytorch) (18.1.8)\r\n",
      "Requirement already satisfied: MarkupSafe>=2.0 in /home/jamesrj_desktop/PycharmProjects/prob_inf_marl/.venv/lib/python3.10/site-packages (from jinja2->torch>=1.11->linear-operator>=0.5.3->gpytorch) (2.1.5)\r\n",
      "Downloading gpytorch-1.13-py3-none-any.whl (277 kB)\r\n",
      "Downloading jaxtyping-0.2.19-py3-none-any.whl (24 kB)\r\n",
      "Downloading linear_operator-0.5.3-py3-none-any.whl (176 kB)\r\n",
      "Downloading scikit_learn-1.5.2-cp310-cp310-manylinux_2_17_x86_64.manylinux2014_x86_64.whl (13.3 MB)\r\n",
      "\u001B[2K   \u001B[90m━━━━━━━━━━━━━━━━━━━━━━━━━━━━━━━━━━━━━━━━\u001B[0m \u001B[32m13.3/13.3 MB\u001B[0m \u001B[31m76.5 MB/s\u001B[0m eta \u001B[36m0:00:00\u001B[0m\r\n",
      "\u001B[?25hDownloading joblib-1.4.2-py3-none-any.whl (301 kB)\r\n",
      "Downloading threadpoolctl-3.5.0-py3-none-any.whl (18 kB)\r\n",
      "Downloading typeguard-4.3.0-py3-none-any.whl (35 kB)\r\n",
      "Installing collected packages: typeguard, threadpoolctl, joblib, scikit-learn, jaxtyping, linear-operator, gpytorch\r\n",
      "Successfully installed gpytorch-1.13 jaxtyping-0.2.19 joblib-1.4.2 linear-operator-0.5.3 scikit-learn-1.5.2 threadpoolctl-3.5.0 typeguard-4.3.0\r\n"
     ]
    }
   ],
   "source": [
    "# !pip install --upgrade -qq \"jax[cuda11_pip]\" -f https://storage.googleapis.com/jax-releases/jax_cuda_releases.html\n",
    "# !pip install -qq matplotlib jaxmarl pettingzoo\n",
    "!pip install pettingzoo\n",
    "!pip install gpytorch\n",
    "# exit(0) #essentially, restarts the runtime after the installation"
   ],
   "metadata": {
    "collapsed": false,
    "ExecuteTime": {
     "end_time": "2024-09-23T16:14:15.503905015Z",
     "start_time": "2024-09-23T16:14:10.637361196Z"
    }
   },
   "id": "bd23f0a00378af4"
  },
  {
   "cell_type": "code",
   "execution_count": 13,
   "outputs": [],
   "source": [
    "import numpy as np\n",
    "import matplotlib.pyplot as plt\n",
    "from pettingzoo.mpe import simple_v3\n",
    "import gpytorch"
   ],
   "metadata": {
    "collapsed": false,
    "ExecuteTime": {
     "end_time": "2024-09-23T16:15:14.396365177Z",
     "start_time": "2024-09-23T16:15:14.368296862Z"
    }
   },
   "id": "380e6cec1c6d5ec5"
  },
  {
   "cell_type": "code",
   "execution_count": null,
   "outputs": [],
   "source": [],
   "metadata": {
    "collapsed": false
   },
   "id": "c8001281c3f935e1"
  },
  {
   "cell_type": "code",
   "execution_count": 10,
   "outputs": [
    {
     "name": "stdout",
     "output_type": "stream",
     "text": [
      "[0.         0.         1.3798318  0.31967115]\n",
      "4\n",
      "[0.         0.5        1.3798318  0.31967115]\n",
      "0\n",
      "[0.         0.375      1.3798318  0.26967114]\n",
      "2\n",
      "[0.5        0.28125    1.3798318  0.23217113]\n",
      "2\n",
      "[0.875      0.2109375  1.3298318  0.20404615]\n",
      "1\n",
      "[0.15625    0.15820312 1.2423317  0.18295239]\n",
      "0\n",
      "[0.1171875  0.11865234 1.2267067  0.16713208]\n",
      "1\n",
      "[-0.41210938  0.08898926  1.214988    0.15526684]\n",
      "2\n",
      "[0.19091797 0.06674194 1.256199   0.14636792]\n",
      "1\n",
      "[-0.35681152  0.05005646  1.2371072   0.13969372]\n",
      "4\n",
      "[-0.26760864  0.53754234  1.2727883   0.13468808]\n",
      "1\n",
      "[-0.7007065   0.40315676  1.2995492   0.08093384]\n",
      "4\n",
      "[-0.52552986  0.80236757  1.3696198   0.04061817]\n",
      "0\n",
      "[-0.3941474   0.60177565  1.4221728  -0.03961859]\n",
      "1\n",
      "[-0.79561055  0.45133176  1.4615875  -0.09979616]\n",
      "4\n",
      "[-0.59670794  0.83849883  1.5411487  -0.14492933]\n",
      "2\n",
      "[ 0.05246907  0.6288741   1.6008195  -0.22877921]\n",
      "2\n",
      "[ 0.5393518   0.47165558  1.5955725  -0.29166663]\n",
      "1\n",
      "[-0.09548615  0.35374168  1.5416373  -0.3388322 ]\n",
      "0\n",
      "[-0.07161462  0.26530626  1.551186   -0.37420636]\n",
      "2\n",
      "[ 0.44628903  0.1989797   1.5583473  -0.400737  ]\n",
      "4\n",
      "[ 0.33471677  0.6492348   1.5137185  -0.42063496]\n",
      "3\n",
      "[ 0.2510376  -0.01307392  1.4802468  -0.48555842]\n",
      "3\n",
      "[ 0.18827818 -0.50980544  1.4551431  -0.48425102]\n",
      "2\n",
      "[ 0.64120865 -0.38235408  1.4363153  -0.43327048]\n",
      "0\n",
      "[ 0.4809065  -0.28676555  1.3721944  -0.3950351 ]\n"
     ]
    }
   ],
   "source": [
    "env = simple_v3.env(render_mode='rgb_array', continuous_actions=False)  # \"human\" \"rgb_array\"\n",
    "\n",
    "env.reset()\n",
    "for agent in env.agent_iter():\n",
    "    observation, reward, termination, truncation, info = env.last()\n",
    "    print(observation)\n",
    "    \n",
    "    # condition GP on last obs and action\n",
    "\n",
    "    if termination or truncation:\n",
    "        action = None\n",
    "    else:       \n",
    "        # this is where you would insert your policy\n",
    "        action = env.action_space(agent).sample() \n",
    "        print(action)\n",
    "\n",
    "    env.step(action)\n",
    "env.close()"
   ],
   "metadata": {
    "collapsed": false,
    "ExecuteTime": {
     "end_time": "2024-09-23T16:05:11.632834048Z",
     "start_time": "2024-09-23T16:05:11.590481303Z"
    }
   },
   "id": "6e2878f8eea5e07a"
  },
  {
   "cell_type": "code",
   "execution_count": null,
   "outputs": [],
   "source": [],
   "metadata": {
    "collapsed": false
   },
   "id": "6eff5fc930505593"
  }
 ],
 "metadata": {
  "kernelspec": {
   "display_name": "Python 3",
   "language": "python",
   "name": "python3"
  },
  "language_info": {
   "codemirror_mode": {
    "name": "ipython",
    "version": 2
   },
   "file_extension": ".py",
   "mimetype": "text/x-python",
   "name": "python",
   "nbconvert_exporter": "python",
   "pygments_lexer": "ipython2",
   "version": "2.7.6"
  }
 },
 "nbformat": 4,
 "nbformat_minor": 5
}
